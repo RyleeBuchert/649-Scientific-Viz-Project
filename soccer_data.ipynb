{
 "cells": [
  {
   "cell_type": "code",
   "execution_count": 1,
   "metadata": {},
   "outputs": [],
   "source": [
    "import json\n",
    "import pandas as pd"
   ]
  },
  {
   "cell_type": "code",
   "execution_count": 2,
   "metadata": {},
   "outputs": [],
   "source": [
    "\n",
    "nations = [\n",
    "    'Italy', 'England', 'Germany', 'France', \n",
    "    'Spain', 'European_Championship', 'World_Cup'\n",
    "]\n",
    "\n",
    "events = {}\n",
    "for nation in nations:\n",
    "    with open('./data/raw-data/events/events_%s.json' %nation) as json_data:\n",
    "        events[nation] = json.load(json_data)\n",
    "\n",
    "matches = {}\n",
    "for nation in nations:\n",
    "    with open('./data/raw-data/matches/matches_%s.json' %nation) as json_data:\n",
    "        matches[nation] = json.load(json_data)\n",
    "\n",
    "players = {}\n",
    "with open('./data/raw-data/players.json') as json_data:\n",
    "    players = json.load(json_data)\n",
    "\n",
    "competitions = {}\n",
    "with open('./data/raw-data/competitions.json') as json_data:\n",
    "    competitions = json.load(json_data)\n",
    "\n",
    "teams = {}\n",
    "with open('./data/raw-data/teams.json') as json_data:\n",
    "    teams = json.load(json_data)\n"
   ]
  },
  {
   "cell_type": "code",
   "execution_count": null,
   "metadata": {},
   "outputs": [],
   "source": [
    "\n",
    "event_data = [\n",
    "    {\n",
    "        'id': event['id'],\n",
    "        'eventId': event['eventId'],\n",
    "        'eventName': event['eventName'],\n",
    "        'matchId': event['matchId'],\n",
    "        'teamId': event['teamId'],\n",
    "        'playerId': event['playerId'],\n",
    "        'x': event['positions'][0]['x'],\n",
    "        'y': event['positions'][0]['y']\n",
    "    }\n",
    "    for nation in events\n",
    "    for event in events[nation]\n",
    "]\n",
    "\n",
    "columns = [\n",
    "    'id', 'eventId', 'eventName', 'matchId', \n",
    "    'teamId', 'playerId', 'x', 'y'\n",
    "]\n",
    "\n",
    "event_df = pd.DataFrame(event_data, columns = columns)\n",
    "event_df.to_csv('data/events.csv')\n"
   ]
  },
  {
   "cell_type": "code",
   "execution_count": 6,
   "metadata": {},
   "outputs": [],
   "source": [
    "match_data = []\n",
    "for nation in matches:\n",
    "    for match in matches[nation]:\n",
    "        teams = [team for team in match['teamsData']]\n",
    "        match_data.append({\n",
    "            'id': match['wyId'],\n",
    "            'competitionId': match['competitionId'],\n",
    "            'date': match['date'],\n",
    "            'dateutc': match['dateutc'],\n",
    "            'label': match['label'],\n",
    "            'venue': match['venue'],\n",
    "            'winner': match['winner'],\n",
    "            'team1': teams[0],\n",
    "            'team2': teams[1],\n",
    "            'seasonId': match['seasonId'],\n",
    "            'roundId': match['roundId']\n",
    "        })\n",
    "\n",
    "columns = [\n",
    "    'id', 'competitionId', 'date', 'dateutc', 'label', \n",
    "    'venue', 'winner', 'team1', 'team2', 'seasonId', 'roundId'\n",
    "]\n",
    "\n",
    "match_df = pd.DataFrame(match_data, columns = columns)\n",
    "match_df.to_csv('data/matches.csv')\n"
   ]
  },
  {
   "cell_type": "code",
   "execution_count": 4,
   "metadata": {},
   "outputs": [
    {
     "ename": "KeyboardInterrupt",
     "evalue": "",
     "output_type": "error",
     "traceback": [
      "\u001b[0;31m---------------------------------------------------------------------------\u001b[0m",
      "\u001b[0;31mKeyboardInterrupt\u001b[0m                         Traceback (most recent call last)",
      "Cell \u001b[0;32mIn[4], line 2\u001b[0m\n\u001b[0;32m----> 2\u001b[0m match_data \u001b[38;5;241m=\u001b[39m [\n\u001b[1;32m      3\u001b[0m     {\n\u001b[1;32m      4\u001b[0m         \u001b[38;5;124m'\u001b[39m\u001b[38;5;124mid\u001b[39m\u001b[38;5;124m'\u001b[39m: match[\u001b[38;5;124m'\u001b[39m\u001b[38;5;124mwyId\u001b[39m\u001b[38;5;124m'\u001b[39m],\n\u001b[1;32m      5\u001b[0m         \u001b[38;5;124m'\u001b[39m\u001b[38;5;124mcompetitionId\u001b[39m\u001b[38;5;124m'\u001b[39m: match[\u001b[38;5;124m'\u001b[39m\u001b[38;5;124mcompetitionId\u001b[39m\u001b[38;5;124m'\u001b[39m],\n\u001b[1;32m      6\u001b[0m         \u001b[38;5;124m'\u001b[39m\u001b[38;5;124mdate\u001b[39m\u001b[38;5;124m'\u001b[39m: match[\u001b[38;5;124m'\u001b[39m\u001b[38;5;124mdate\u001b[39m\u001b[38;5;124m'\u001b[39m],\n\u001b[1;32m      7\u001b[0m         \u001b[38;5;124m'\u001b[39m\u001b[38;5;124mdateutc\u001b[39m\u001b[38;5;124m'\u001b[39m: match[\u001b[38;5;124m'\u001b[39m\u001b[38;5;124mdateutc\u001b[39m\u001b[38;5;124m'\u001b[39m],\n\u001b[1;32m      8\u001b[0m         \u001b[38;5;124m'\u001b[39m\u001b[38;5;124mlabel\u001b[39m\u001b[38;5;124m'\u001b[39m: match[\u001b[38;5;124m'\u001b[39m\u001b[38;5;124mlabel\u001b[39m\u001b[38;5;124m'\u001b[39m],\n\u001b[1;32m      9\u001b[0m         \u001b[38;5;124m'\u001b[39m\u001b[38;5;124mvenue\u001b[39m\u001b[38;5;124m'\u001b[39m: match[\u001b[38;5;124m'\u001b[39m\u001b[38;5;124mvenue\u001b[39m\u001b[38;5;124m'\u001b[39m],\n\u001b[1;32m     10\u001b[0m         \u001b[38;5;124m'\u001b[39m\u001b[38;5;124mwinner\u001b[39m\u001b[38;5;124m'\u001b[39m: match[\u001b[38;5;124m'\u001b[39m\u001b[38;5;124mwinner\u001b[39m\u001b[38;5;124m'\u001b[39m],\n\u001b[1;32m     11\u001b[0m         \u001b[38;5;124m'\u001b[39m\u001b[38;5;124mseasonId\u001b[39m\u001b[38;5;124m'\u001b[39m: match[\u001b[38;5;124m'\u001b[39m\u001b[38;5;124mseasonId\u001b[39m\u001b[38;5;124m'\u001b[39m],\n\u001b[1;32m     12\u001b[0m         \u001b[38;5;124m'\u001b[39m\u001b[38;5;124mroundId\u001b[39m\u001b[38;5;124m'\u001b[39m: match[\u001b[38;5;124m'\u001b[39m\u001b[38;5;124mroundId\u001b[39m\u001b[38;5;124m'\u001b[39m]\n\u001b[1;32m     13\u001b[0m     }\n\u001b[1;32m     14\u001b[0m     \u001b[38;5;28;01mfor\u001b[39;00m nation \u001b[38;5;129;01min\u001b[39;00m matches\n\u001b[1;32m     15\u001b[0m     \u001b[38;5;28;01mfor\u001b[39;00m match \u001b[38;5;129;01min\u001b[39;00m matches[nation]\n\u001b[1;32m     16\u001b[0m ]\n\u001b[1;32m     18\u001b[0m columns \u001b[38;5;241m=\u001b[39m [\n\u001b[1;32m     19\u001b[0m     \u001b[38;5;124m'\u001b[39m\u001b[38;5;124mid\u001b[39m\u001b[38;5;124m'\u001b[39m, \u001b[38;5;124m'\u001b[39m\u001b[38;5;124mcompetitionId\u001b[39m\u001b[38;5;124m'\u001b[39m, \u001b[38;5;124m'\u001b[39m\u001b[38;5;124mdate\u001b[39m\u001b[38;5;124m'\u001b[39m, \u001b[38;5;124m'\u001b[39m\u001b[38;5;124mdateutc\u001b[39m\u001b[38;5;124m'\u001b[39m, \u001b[38;5;124m'\u001b[39m\u001b[38;5;124mlabel\u001b[39m\u001b[38;5;124m'\u001b[39m, \n\u001b[1;32m     20\u001b[0m     \u001b[38;5;124m'\u001b[39m\u001b[38;5;124mvenue\u001b[39m\u001b[38;5;124m'\u001b[39m, \u001b[38;5;124m'\u001b[39m\u001b[38;5;124mwinner\u001b[39m\u001b[38;5;124m'\u001b[39m, \u001b[38;5;124m'\u001b[39m\u001b[38;5;124mseasonId\u001b[39m\u001b[38;5;124m'\u001b[39m, \u001b[38;5;124m'\u001b[39m\u001b[38;5;124mroundId\u001b[39m\u001b[38;5;124m'\u001b[39m,\n\u001b[1;32m     21\u001b[0m ]\n\u001b[1;32m     23\u001b[0m match_df \u001b[38;5;241m=\u001b[39m pd\u001b[38;5;241m.\u001b[39mDataFrame(match_data, columns \u001b[38;5;241m=\u001b[39m columns)\n",
      "Cell \u001b[0;32mIn[4], line 2\u001b[0m\n\u001b[0;32m----> 2\u001b[0m match_data \u001b[38;5;241m=\u001b[39m [\n\u001b[1;32m      3\u001b[0m     {\n\u001b[1;32m      4\u001b[0m         \u001b[38;5;124m'\u001b[39m\u001b[38;5;124mid\u001b[39m\u001b[38;5;124m'\u001b[39m: match[\u001b[38;5;124m'\u001b[39m\u001b[38;5;124mwyId\u001b[39m\u001b[38;5;124m'\u001b[39m],\n\u001b[1;32m      5\u001b[0m         \u001b[38;5;124m'\u001b[39m\u001b[38;5;124mcompetitionId\u001b[39m\u001b[38;5;124m'\u001b[39m: match[\u001b[38;5;124m'\u001b[39m\u001b[38;5;124mcompetitionId\u001b[39m\u001b[38;5;124m'\u001b[39m],\n\u001b[1;32m      6\u001b[0m         \u001b[38;5;124m'\u001b[39m\u001b[38;5;124mdate\u001b[39m\u001b[38;5;124m'\u001b[39m: match[\u001b[38;5;124m'\u001b[39m\u001b[38;5;124mdate\u001b[39m\u001b[38;5;124m'\u001b[39m],\n\u001b[1;32m      7\u001b[0m         \u001b[38;5;124m'\u001b[39m\u001b[38;5;124mdateutc\u001b[39m\u001b[38;5;124m'\u001b[39m: match[\u001b[38;5;124m'\u001b[39m\u001b[38;5;124mdateutc\u001b[39m\u001b[38;5;124m'\u001b[39m],\n\u001b[1;32m      8\u001b[0m         \u001b[38;5;124m'\u001b[39m\u001b[38;5;124mlabel\u001b[39m\u001b[38;5;124m'\u001b[39m: match[\u001b[38;5;124m'\u001b[39m\u001b[38;5;124mlabel\u001b[39m\u001b[38;5;124m'\u001b[39m],\n\u001b[1;32m      9\u001b[0m         \u001b[38;5;124m'\u001b[39m\u001b[38;5;124mvenue\u001b[39m\u001b[38;5;124m'\u001b[39m: match[\u001b[38;5;124m'\u001b[39m\u001b[38;5;124mvenue\u001b[39m\u001b[38;5;124m'\u001b[39m],\n\u001b[1;32m     10\u001b[0m         \u001b[38;5;124m'\u001b[39m\u001b[38;5;124mwinner\u001b[39m\u001b[38;5;124m'\u001b[39m: match[\u001b[38;5;124m'\u001b[39m\u001b[38;5;124mwinner\u001b[39m\u001b[38;5;124m'\u001b[39m],\n\u001b[1;32m     11\u001b[0m         \u001b[38;5;124m'\u001b[39m\u001b[38;5;124mseasonId\u001b[39m\u001b[38;5;124m'\u001b[39m: match[\u001b[38;5;124m'\u001b[39m\u001b[38;5;124mseasonId\u001b[39m\u001b[38;5;124m'\u001b[39m],\n\u001b[1;32m     12\u001b[0m         \u001b[38;5;124m'\u001b[39m\u001b[38;5;124mroundId\u001b[39m\u001b[38;5;124m'\u001b[39m: match[\u001b[38;5;124m'\u001b[39m\u001b[38;5;124mroundId\u001b[39m\u001b[38;5;124m'\u001b[39m]\n\u001b[1;32m     13\u001b[0m     }\n\u001b[1;32m     14\u001b[0m     \u001b[38;5;28;01mfor\u001b[39;00m nation \u001b[38;5;129;01min\u001b[39;00m matches\n\u001b[1;32m     15\u001b[0m     \u001b[38;5;28;01mfor\u001b[39;00m match \u001b[38;5;129;01min\u001b[39;00m matches[nation]\n\u001b[1;32m     16\u001b[0m ]\n\u001b[1;32m     18\u001b[0m columns \u001b[38;5;241m=\u001b[39m [\n\u001b[1;32m     19\u001b[0m     \u001b[38;5;124m'\u001b[39m\u001b[38;5;124mid\u001b[39m\u001b[38;5;124m'\u001b[39m, \u001b[38;5;124m'\u001b[39m\u001b[38;5;124mcompetitionId\u001b[39m\u001b[38;5;124m'\u001b[39m, \u001b[38;5;124m'\u001b[39m\u001b[38;5;124mdate\u001b[39m\u001b[38;5;124m'\u001b[39m, \u001b[38;5;124m'\u001b[39m\u001b[38;5;124mdateutc\u001b[39m\u001b[38;5;124m'\u001b[39m, \u001b[38;5;124m'\u001b[39m\u001b[38;5;124mlabel\u001b[39m\u001b[38;5;124m'\u001b[39m, \n\u001b[1;32m     20\u001b[0m     \u001b[38;5;124m'\u001b[39m\u001b[38;5;124mvenue\u001b[39m\u001b[38;5;124m'\u001b[39m, \u001b[38;5;124m'\u001b[39m\u001b[38;5;124mwinner\u001b[39m\u001b[38;5;124m'\u001b[39m, \u001b[38;5;124m'\u001b[39m\u001b[38;5;124mseasonId\u001b[39m\u001b[38;5;124m'\u001b[39m, \u001b[38;5;124m'\u001b[39m\u001b[38;5;124mroundId\u001b[39m\u001b[38;5;124m'\u001b[39m,\n\u001b[1;32m     21\u001b[0m ]\n\u001b[1;32m     23\u001b[0m match_df \u001b[38;5;241m=\u001b[39m pd\u001b[38;5;241m.\u001b[39mDataFrame(match_data, columns \u001b[38;5;241m=\u001b[39m columns)\n",
      "File \u001b[0;32m_pydevd_bundle/pydevd_cython.pyx:1457\u001b[0m, in \u001b[0;36m_pydevd_bundle.pydevd_cython.SafeCallWrapper.__call__\u001b[0;34m()\u001b[0m\n",
      "File \u001b[0;32m_pydevd_bundle/pydevd_cython.pyx:701\u001b[0m, in \u001b[0;36m_pydevd_bundle.pydevd_cython.PyDBFrame.trace_dispatch\u001b[0;34m()\u001b[0m\n",
      "File \u001b[0;32m_pydevd_bundle/pydevd_cython.pyx:1152\u001b[0m, in \u001b[0;36m_pydevd_bundle.pydevd_cython.PyDBFrame.trace_dispatch\u001b[0;34m()\u001b[0m\n",
      "File \u001b[0;32m_pydevd_bundle/pydevd_cython.pyx:1135\u001b[0m, in \u001b[0;36m_pydevd_bundle.pydevd_cython.PyDBFrame.trace_dispatch\u001b[0;34m()\u001b[0m\n",
      "File \u001b[0;32m_pydevd_bundle/pydevd_cython.pyx:312\u001b[0m, in \u001b[0;36m_pydevd_bundle.pydevd_cython.PyDBFrame.do_wait_suspend\u001b[0;34m()\u001b[0m\n",
      "File \u001b[0;32m~/Classes/SI-649/.venv/lib/python3.11/site-packages/debugpy/_vendored/pydevd/pydevd.py:2070\u001b[0m, in \u001b[0;36mPyDB.do_wait_suspend\u001b[0;34m(self, thread, frame, event, arg, exception_type)\u001b[0m\n\u001b[1;32m   2067\u001b[0m             from_this_thread\u001b[38;5;241m.\u001b[39mappend(frame_custom_thread_id)\n\u001b[1;32m   2069\u001b[0m     \u001b[38;5;28;01mwith\u001b[39;00m \u001b[38;5;28mself\u001b[39m\u001b[38;5;241m.\u001b[39m_threads_suspended_single_notification\u001b[38;5;241m.\u001b[39mnotify_thread_suspended(thread_id, thread, stop_reason):\n\u001b[0;32m-> 2070\u001b[0m         keep_suspended \u001b[38;5;241m=\u001b[39m \u001b[38;5;28;43mself\u001b[39;49m\u001b[38;5;241;43m.\u001b[39;49m\u001b[43m_do_wait_suspend\u001b[49m\u001b[43m(\u001b[49m\u001b[43mthread\u001b[49m\u001b[43m,\u001b[49m\u001b[43m \u001b[49m\u001b[43mframe\u001b[49m\u001b[43m,\u001b[49m\u001b[43m \u001b[49m\u001b[43mevent\u001b[49m\u001b[43m,\u001b[49m\u001b[43m \u001b[49m\u001b[43marg\u001b[49m\u001b[43m,\u001b[49m\u001b[43m \u001b[49m\u001b[43msuspend_type\u001b[49m\u001b[43m,\u001b[49m\u001b[43m \u001b[49m\u001b[43mfrom_this_thread\u001b[49m\u001b[43m,\u001b[49m\u001b[43m \u001b[49m\u001b[43mframes_tracker\u001b[49m\u001b[43m)\u001b[49m\n\u001b[1;32m   2072\u001b[0m frames_list \u001b[38;5;241m=\u001b[39m \u001b[38;5;28;01mNone\u001b[39;00m\n\u001b[1;32m   2074\u001b[0m \u001b[38;5;28;01mif\u001b[39;00m keep_suspended:\n\u001b[1;32m   2075\u001b[0m     \u001b[38;5;66;03m# This means that we should pause again after a set next statement.\u001b[39;00m\n",
      "File \u001b[0;32m~/Classes/SI-649/.venv/lib/python3.11/site-packages/debugpy/_vendored/pydevd/pydevd.py:2106\u001b[0m, in \u001b[0;36mPyDB._do_wait_suspend\u001b[0;34m(self, thread, frame, event, arg, suspend_type, from_this_thread, frames_tracker)\u001b[0m\n\u001b[1;32m   2103\u001b[0m         \u001b[38;5;28mself\u001b[39m\u001b[38;5;241m.\u001b[39m_call_input_hook()\n\u001b[1;32m   2105\u001b[0m     \u001b[38;5;28mself\u001b[39m\u001b[38;5;241m.\u001b[39mprocess_internal_commands()\n\u001b[0;32m-> 2106\u001b[0m     time\u001b[38;5;241m.\u001b[39msleep(\u001b[38;5;241m0.01\u001b[39m)\n\u001b[1;32m   2108\u001b[0m \u001b[38;5;28mself\u001b[39m\u001b[38;5;241m.\u001b[39mcancel_async_evaluation(get_current_thread_id(thread), \u001b[38;5;28mstr\u001b[39m(\u001b[38;5;28mid\u001b[39m(frame)))\n\u001b[1;32m   2110\u001b[0m \u001b[38;5;66;03m# process any stepping instructions\u001b[39;00m\n",
      "\u001b[0;31mKeyboardInterrupt\u001b[0m: "
     ]
    }
   ],
   "source": [
    "\n",
    "match_data = [\n",
    "    {\n",
    "        'id': match['wyId'],\n",
    "        'competitionId': match['competitionId'],\n",
    "        'date': match['date'],\n",
    "        'dateutc': match['dateutc'],\n",
    "        'label': match['label'],\n",
    "        'venue': match['venue'],\n",
    "        'winner': match['winner'],\n",
    "        'seasonId': match['seasonId'],\n",
    "        'roundId': match['roundId']\n",
    "    }\n",
    "    for nation in matches\n",
    "    for match in matches[nation]\n",
    "]\n",
    "\n",
    "columns = [\n",
    "    'id', 'competitionId', 'date', 'dateutc', 'label', \n",
    "    'venue', 'winner', 'seasonId', 'roundId',\n",
    "]\n",
    "\n",
    "match_df = pd.DataFrame(match_data, columns = columns)\n",
    "match_df.to_csv('data/matches.csv')\n"
   ]
  },
  {
   "cell_type": "code",
   "execution_count": 11,
   "metadata": {},
   "outputs": [],
   "source": [
    "\n",
    "competition_data = [\n",
    "    {\n",
    "        'id': competition['wyId'],\n",
    "        'name': competition['name'],\n",
    "        'format': competition['format'],\n",
    "        'type': competition['type']\n",
    "    }\n",
    "    for competition in competitions\n",
    "]\n",
    "\n",
    "columns = ['id', 'name', 'format', 'type']\n",
    "\n",
    "competition_df = pd.DataFrame(competition_data, columns = columns)\n",
    "competition_df.to_csv('data/competitions.csv')\n"
   ]
  },
  {
   "cell_type": "code",
   "execution_count": null,
   "metadata": {},
   "outputs": [],
   "source": [
    "\n",
    "player_data = [\n",
    "    {\n",
    "        'id': player['wyId'],\n",
    "        'name': f\"{player['firstName']} {player['lastName']}\",\n",
    "        'shortName': player['shortName'],\n",
    "        'teamId': player['currentTeamId'],\n",
    "        'position': player['role']['name'],\n",
    "        'foot': player['foot'],\n",
    "    }\n",
    "    for player in players\n",
    "]\n",
    "\n",
    "columns = ['id', 'name', 'shortName', 'teamId', 'position', 'foot']\n",
    "\n",
    "player_df = pd.DataFrame(player_data, columns = columns)\n",
    "player_df.to_csv('data/players.csv')\n"
   ]
  },
  {
   "cell_type": "code",
   "execution_count": 17,
   "metadata": {},
   "outputs": [],
   "source": [
    "\n",
    "team_data = [\n",
    "    {\n",
    "        'id': team['wyId'],\n",
    "        'name': team['name'],\n",
    "        'officialName': team['officialName'],\n",
    "        'type': team['type'],\n",
    "        'city': team['city']\n",
    "    }\n",
    "    for team in teams\n",
    "]\n",
    "\n",
    "columns = ['id', 'name', 'officialName', 'type', 'city']\n",
    "\n",
    "team_df = pd.DataFrame(team_data, columns = columns)\n",
    "team_df.to_csv('data/teams.csv')\n"
   ]
  },
  {
   "cell_type": "code",
   "execution_count": null,
   "metadata": {},
   "outputs": [],
   "source": [
    "match_id = 2576263\n",
    "\n",
    "list_invasion, list_acceleration = get_invasion_index(a_match,match_id,lst=True)"
   ]
  }
 ],
 "metadata": {
  "kernelspec": {
   "display_name": ".venv",
   "language": "python",
   "name": "python3"
  },
  "language_info": {
   "codemirror_mode": {
    "name": "ipython",
    "version": 3
   },
   "file_extension": ".py",
   "mimetype": "text/x-python",
   "name": "python",
   "nbconvert_exporter": "python",
   "pygments_lexer": "ipython3",
   "version": "3.11.2"
  }
 },
 "nbformat": 4,
 "nbformat_minor": 2
}
