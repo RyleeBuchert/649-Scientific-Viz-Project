{
 "cells": [
  {
   "cell_type": "code",
   "execution_count": 1,
   "metadata": {},
   "outputs": [],
   "source": [
    "import json\n",
    "import pandas as pd"
   ]
  },
  {
   "cell_type": "code",
   "execution_count": 2,
   "metadata": {},
   "outputs": [],
   "source": [
    "\n",
    "nations = [\n",
    "    'Italy', 'England', 'Germany', 'France', \n",
    "    'Spain', 'European_Championship', 'World_Cup'\n",
    "]\n",
    "\n",
    "events = {}\n",
    "for nation in nations:\n",
    "    with open('./data/raw-data/events/events_%s.json' %nation) as json_data:\n",
    "        events[nation] = json.load(json_data)\n",
    "\n",
    "matches = {}\n",
    "for nation in nations:\n",
    "    with open('./data/raw-data/matches/matches_%s.json' %nation) as json_data:\n",
    "        matches[nation] = json.load(json_data)\n",
    "\n",
    "players = {}\n",
    "with open('./data/raw-data/players.json') as json_data:\n",
    "    players = json.load(json_data)\n",
    "\n",
    "competitions = {}\n",
    "with open('./data/raw-data/competitions.json') as json_data:\n",
    "    competitions = json.load(json_data)\n",
    "\n",
    "teams = {}\n",
    "with open('./data/raw-data/teams.json') as json_data:\n",
    "    teams = json.load(json_data)\n"
   ]
  },
  {
   "cell_type": "code",
   "execution_count": null,
   "metadata": {},
   "outputs": [],
   "source": [
    "\n",
    "event_data = [\n",
    "    {\n",
    "        'id': event['id'],\n",
    "        'eventId': event['eventId'],\n",
    "        'eventName': event['eventName'],\n",
    "        'matchId': event['matchId'],\n",
    "        'teamId': event['teamId'],\n",
    "        'playerId': event['playerId'],\n",
    "        'x': event['positions'][0]['x'],\n",
    "        'y': event['positions'][0]['y']\n",
    "    }\n",
    "    for nation in events\n",
    "    for event in events[nation]\n",
    "]\n",
    "\n",
    "columns = [\n",
    "    'id', 'eventId', 'eventName', 'matchId', \n",
    "    'teamId', 'playerId', 'x', 'y'\n",
    "]\n",
    "\n",
    "event_df = pd.DataFrame(event_data, columns = columns)\n",
    "event_df.to_csv('data/events.csv')\n"
   ]
  },
  {
   "cell_type": "code",
   "execution_count": 5,
   "metadata": {},
   "outputs": [],
   "source": [
    "\n",
    "match_data = [\n",
    "    {\n",
    "        'id': match['wyId'],\n",
    "        'competitionId': match['competitionId'],\n",
    "        'date': match['date'],\n",
    "        'dateutc': match['dateutc'],\n",
    "        'label': match['label'],\n",
    "        'venue': match['venue'],\n",
    "        'winner': match['winner'],\n",
    "        'seasonId': match['seasonId'],\n",
    "        'roundId': match['roundId']\n",
    "    }\n",
    "    for nation in matches\n",
    "    for match in matches[nation]\n",
    "]\n",
    "\n",
    "columns = [\n",
    "    'id', 'competitionId', 'date', 'dateutc', 'label', \n",
    "    'venue', 'winner', 'seasonId', 'roundId',\n",
    "]\n",
    "\n",
    "match_df = pd.DataFrame(match_data, columns = columns)\n",
    "match_df.to_csv('data/matches.csv')\n"
   ]
  },
  {
   "cell_type": "code",
   "execution_count": 11,
   "metadata": {},
   "outputs": [],
   "source": [
    "\n",
    "competition_data = [\n",
    "    {\n",
    "        'id': competition['wyId'],\n",
    "        'name': competition['name'],\n",
    "        'format': competition['format'],\n",
    "        'type': competition['type']\n",
    "    }\n",
    "    for competition in competitions\n",
    "]\n",
    "\n",
    "columns = ['id', 'name', 'format', 'type']\n",
    "\n",
    "competition_df = pd.DataFrame(competition_data, columns = columns)\n",
    "competition_df.to_csv('data/competitions.csv')\n"
   ]
  },
  {
   "cell_type": "code",
   "execution_count": null,
   "metadata": {},
   "outputs": [],
   "source": [
    "\n",
    "player_data = [\n",
    "    {\n",
    "        'id': player['wyId'],\n",
    "        'name': f\"{player['firstName']} {player['lastName']}\",\n",
    "        'shortName': player['shortName'],\n",
    "        'teamId': player['currentTeamId'],\n",
    "        'position': player['role']['name'],\n",
    "        'foot': player['foot'],\n",
    "    }\n",
    "    for player in players\n",
    "]\n",
    "\n",
    "columns = ['id', 'name', 'shortName', 'teamId', 'position', 'foot']\n",
    "\n",
    "player_df = pd.DataFrame(player_data, columns = columns)\n",
    "player_df.to_csv('data/players.csv')\n"
   ]
  },
  {
   "cell_type": "code",
   "execution_count": 17,
   "metadata": {},
   "outputs": [],
   "source": [
    "\n",
    "team_data = [\n",
    "    {\n",
    "        'id': team['wyId'],\n",
    "        'name': team['name'],\n",
    "        'officialName': team['officialName'],\n",
    "        'type': team['type'],\n",
    "        'city': team['city']\n",
    "    }\n",
    "    for team in teams\n",
    "]\n",
    "\n",
    "columns = ['id', 'name', 'officialName', 'type', 'city']\n",
    "\n",
    "team_df = pd.DataFrame(team_data, columns = columns)\n",
    "team_df.to_csv('data/teams.csv')\n"
   ]
  }
 ],
 "metadata": {
  "kernelspec": {
   "display_name": ".venv",
   "language": "python",
   "name": "python3"
  },
  "language_info": {
   "codemirror_mode": {
    "name": "ipython",
    "version": 3
   },
   "file_extension": ".py",
   "mimetype": "text/x-python",
   "name": "python",
   "nbconvert_exporter": "python",
   "pygments_lexer": "ipython3",
   "version": "3.11.2"
  }
 },
 "nbformat": 4,
 "nbformat_minor": 2
}
